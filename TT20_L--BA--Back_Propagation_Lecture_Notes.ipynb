{
  "nbformat": 4,
  "nbformat_minor": 0,
  "metadata": {
    "colab": {
      "name": "T20_L--BA--Back_Propagation_Lecture_Notes.ipynb",
      "version": "0.3.2",
      "provenance": [],
      "include_colab_link": true
    },
    "kernelspec": {
      "name": "python3",
      "display_name": "Python 3"
    }
  },
  "cells": [
    {
      "cell_type": "markdown",
      "metadata": {
        "id": "view-in-github",
        "colab_type": "text"
      },
      "source": [
        "[View in Colaboratory](https://colab.research.google.com/github/schwaaweb/Data-Structures/blob/master/TT20_L--BA--Back_Propagation_Lecture_Notes.ipynb)"
      ]
    },
    {
      "metadata": {
        "id": "1gqyHZ0y-dhs",
        "colab_type": "text"
      },
      "cell_type": "markdown",
      "source": [
        "###Part I: Calculus \n",
        "\n",
        "> 1) The Partial Derivative\n",
        "\n",
        "> 2) The Gradient\n",
        "\n",
        "> 3) Chain Rule\n",
        "\n",
        "\n",
        "###Part II: Computing the Gradient of Neural Networks\n",
        "\n",
        "> 1) Derivatives of Common Activation Functions\n",
        "\n",
        ">*   Sigmoid\n",
        "*   rectified linear unit (ReLU)\n",
        "*   Tanh\n",
        "\n",
        "> 2) Cost Function as a Composition of Activation Functions\n",
        "\n",
        "> 3) The Gradient of a Neural network\n",
        "\n",
        "###Part III: Gradient Descent\n",
        "\n",
        "> 1) Use the Gradient to Find a Minimum\n",
        "\n",
        "\n",
        "\n"
      ]
    },
    {
      "metadata": {
        "id": "zTP7JERek981",
        "colab_type": "text"
      },
      "cell_type": "markdown",
      "source": [
        "# Introduction\n",
        "\n",
        "Back Propagation has a fairly simple problem state. Take a cost function, something like:\n",
        "\n",
        "$\\epsilon = \\sum_i^n (y_i - \\hat{y}_i(\\beta))^2$\n",
        "\n",
        "And find the weights $\\beta$ that yield its minimum. I've written $\\hat{y}(\\beta)$ to denote that our predictions $\\hat{y}$ are functions of our weights $\\beta$. This is both a nitpicky and crucial point, as we will confirm later. \n",
        "\n",
        "The goal of this lecture is to give a concrete, nuts-and-bolts conception of exactly what is involved in accomplishing this.\n"
      ]
    },
    {
      "metadata": {
        "id": "XOfUA8WD8G_h",
        "colab_type": "text"
      },
      "cell_type": "markdown",
      "source": [
        "# Part I: Calculus"
      ]
    },
    {
      "metadata": {
        "id": "fM5mm7VvglHu",
        "colab_type": "text"
      },
      "cell_type": "markdown",
      "source": [
        "## The Partial Derivative\n",
        "\n",
        "According to Google the partial derivative: *is a derivative of a function of two or more variables with respect to one variable, the other(s) being treated as constant.*\n",
        "\n",
        "Example 1: \n",
        "\n",
        "> $f(x,y)=x^2+y^2$\n",
        "\n",
        "> $\\frac{\\partial f(x,y)}{\\partial x} = 2x + 0 = 2x$\n",
        "\n",
        "> $\\frac{\\partial f(x,y)}{\\partial y} = 0 + 2y = 2y$\n",
        "\n",
        "Practice Problem 1:\n",
        "\n",
        "> $g(x,y) = \\sin(x)+y$\n",
        "\n",
        "> $\\frac{\\partial g(x,y)}{\\partial x} = \\cos(x)$\n",
        "\n",
        "> $\\frac{\\partial g(x,y)}{\\partial y} =1$\n",
        "\n",
        "Practice Problem 2:*\n",
        "\n",
        "> $h(x,y) = sin^2(x)y^3$\n",
        "\n",
        "> $\\frac{\\partial h(x,y)}{\\partial x} = $\n",
        "\n",
        "> $\\frac{\\partial h(x,y)}{\\partial y} = $\n",
        "\n",
        "**hint: we need chain rule!*\n",
        "\n"
      ]
    },
    {
      "metadata": {
        "id": "PQ6Rk2DMm128",
        "colab_type": "text"
      },
      "cell_type": "markdown",
      "source": [
        "## The Gradient\n",
        "\n",
        "According to Kalid Azad (author of the web page Better Explained), he succinctly defines the gradient as the thing that \"points in the direction of greatest increase of a function.\" The word \"direction\" here is key: the gradient is a **vector** whose entries are found (nay, computed!) by taking the partial derivatives with respect to the relevant independent variables.\n",
        "\n",
        "$\\nabla f(x,y) = (\\frac{\\partial f(x,y)}{\\partial x}, \\frac{\\partial f(x,y)}{\\partial y}) = (2x, 2y) = \\begin{bmatrix} 2x \\\\ 2y \\end{bmatrix} $"
      ]
    },
    {
      "metadata": {
        "id": "J_ZW_54Mq1H8",
        "colab_type": "text"
      },
      "cell_type": "markdown",
      "source": [
        "## Chain Rule\n",
        "\n",
        "Chain rule allows us to find the derivative of a composition of functions. A composition of functions, might playout something like this: \n",
        "\n",
        "Suppose\n",
        "\n",
        "$f(x) = x^2$\n",
        "\n",
        "$g(x) = \\sin(x)$\n",
        "\n",
        "$(f \\circ g)(x) = f(g(x)) = \\sin^2(x)$\n",
        "\n",
        "How do we take the derivative of this function? \n",
        "\n",
        "**Chain Rule States:** \n",
        "\n",
        "$(f \\circ g)'(x) = f'(g(x))g'(x)$\n",
        "\n",
        "This makes life so easy. We compute $f'(x)$ and $g'(x)$ separately:\n",
        "\n",
        "$f'(x) = 2x$\n",
        "\n",
        "$g'(x) = \\cos(x)$\n",
        "\n",
        "Then we just put everything together:\n",
        "\n",
        "$(f \\circ g)'(x) = 2\\big( \\sin (x) \\big) \\cos (x)$\n",
        "\n",
        "We can restate everything we just did again, but this time in Leibniz notation. This is the same notation we used when discussing partial derivatives above:  \n",
        "\n",
        "given: \n",
        "\n",
        "$y = u^2$\n",
        "\n",
        "$u = \\sin(x)$\n",
        "\n",
        "**Chain Rule Restated:** \n",
        "\n",
        "$\\frac{\\mathrm{d} y}{\\mathrm{d} x} =  \\frac{\\mathrm{d} y}{\\mathrm{d} u} \\frac{\\mathrm{d} u}{\\mathrm{d} x}$\n",
        "\n",
        "Notice how we don't have to go through the trouble of writing a nested function term like $f'(g(x))$.  \n",
        "\n",
        "$ \\frac{\\mathrm{d} v}{\\mathrm{d} u} = 2u$\n",
        "\n",
        "$ \\frac{\\mathrm{d} u}{\\mathrm{d} x} = \\cos(x)$\n",
        "\n",
        "$\\frac{\\mathrm{d} y}{\\mathrm{d} x} = 2 u \\cos(x) =  2\\big( \\sin (x) \\big) \\cos (x)$\n",
        "\n",
        "With this more compact notation, we can conceivably express the derivative for the composition of arbitrarily many functions. Say we were also given:\n",
        "\n",
        "$z = e^{2w}$\n",
        "\n",
        "$w = \\sqrt{y}$\n",
        "\n",
        "then $\\frac{\\mathrm{d} z}{\\mathrm{d} x}$ is just:\n",
        "\n",
        "$\\frac{\\mathrm{d} z}{\\mathrm{d} x} = \\frac{\\mathrm{d} z}{\\mathrm{d} w}\\frac{\\mathrm{d} w}{\\mathrm{d} y}\\frac{\\mathrm{d} y}{\\mathrm{d} u}\\frac{\\mathrm{d} u}{\\mathrm{d} x}$\n",
        "\n",
        "*if* we weren't too interested in substituting back in expressing everything in terms of $x$ (hint: when back propagating, we won't be), this evaluates to:\n",
        "\n",
        "\n",
        "$\\frac{\\mathrm{d} z}{\\mathrm{d} x} = \\big( 2e^{2w}\\big)\\big( \\frac{1}{2\\sqrt{y}}\\big)\\big( 2u\\big)\\big( cos(x)\\big)$"
      ]
    },
    {
      "metadata": {
        "id": "nnN1GE_a8Pwv",
        "colab_type": "text"
      },
      "cell_type": "markdown",
      "source": [
        "# Part II: "
      ]
    },
    {
      "metadata": {
        "id": "3F9cReT9EXK0",
        "colab_type": "code",
        "colab": {
          "base_uri": "https://localhost:8080/",
          "height": 280
        },
        "cellView": "both",
        "outputId": "9a3a6c7d-6a58-43f5-ee82-3b2c25ae6462"
      },
      "cell_type": "code",
      "source": [
        "#@title\n",
        "import numpy as np\n",
        "import matplotlib.pyplot as plt\n",
        "from matplotlib.legend_handler import HandlerLine2D\n",
        "\n",
        "# Red\n",
        "def sigmoid(x):\n",
        "  return 1/( 1 + np.exp(-x))\n",
        "\n",
        "# Blue\n",
        "def ReLu(x):\n",
        "  return x * (x > 0)\n",
        "\n",
        "# Green\n",
        "def tanh(x):\n",
        "  return ( np.exp(x) - np.exp(-x) ) / ( np.exp(x) + np.exp(-x) )\n",
        "\n",
        "# Plot them!\n",
        "t = np.arange(-5., 5., 0.2)\n",
        "sig, = plt.plot(t, sigmoid(t), 'r', label='Sigmoid')\n",
        "re, = plt.plot(t, ReLu(t), 'b', label='ReLu')\n",
        "tan, = plt.plot(t, tanh(t), 'g', label='tanh')\n",
        "plt.legend(handler_map={sig: HandlerLine2D(numpoints=4)})\n",
        "plt.axis([-2, 2, -1, 1])\n",
        "plt.title(\"Activation Functions\")\n",
        "plt.show()"
      ],
      "execution_count": 0,
      "outputs": [
        {
          "output_type": "display_data",
          "data": {
            "image/png": "[encoded data removed]",
            "text/plain": [
              "<matplotlib.figure.Figure at 0x7fee12653dd8>"
            ]
          },
          "metadata": {
            "tags": []
          }
        }
      ]
    },
    {
      "metadata": {
        "id": "ZMbvuEhax33a",
        "colab_type": "text"
      },
      "cell_type": "markdown",
      "source": [
        "## Taking the Derivatives of Activation Functions\n",
        "\n",
        "activation functions are chosen for having nice properties. These nice properties sometimes include smoothness (i.e. differentiability), or how easy it is to compute the derivative, or restricting the range to certain values (e.g. $(0,1)$)"
      ]
    },
    {
      "metadata": {
        "id": "yzTWKH21C1BE",
        "colab_type": "text"
      },
      "cell_type": "markdown",
      "source": [
        "### The Sigmoid Function\n",
        "\n",
        "Let's write the sigmoid function $\\sigma (x)$ as the composition of two functions, $f$ and $g$:\n",
        "\n",
        "$\\qquad f(x) = x^{-1} \\qquad$ and $\\qquad g(x) = 1 + Ce^{-kx}$ \n",
        "\n",
        "Where $C$ and $k$ are arbitrary constants. The composition of these two functions is given by: \n",
        "\n",
        "$\\qquad (f \\circ g)(x) = (1 + Ce^{-kx})^{-1} = \\frac{1}{1 + Ce^{-kx}}$\n",
        "\n",
        "To take this composite function's derivative, we can apply the definition of chain rule. By the power rule, we know $f'(x) = -(x)^{-2}$, while the derivative of the exponential is given by $g'(x) =-kCe^{-kx}$, thus:\n",
        "\n",
        "$\\qquad (f \\circ g)'(x) = f'(g(x))g'(x) = -(1+Ce^{-kx})^{-2}(-kCe^{-kx})$\n",
        "\n",
        "**Simplifying the Above Expression:** In its current form, none of the nice properties of the derivative of a sigmoid are apparent. If we clean up our $(f \\circ g)'(x)$, we will find we can write the derivative of a sigmoid, $\\sigma'(x)$, *in terms of $\\sigma(x)$ itself!* And that's a very nice property. Allow me to demonstrate: First, we expand some terms:\n",
        "\n",
        "$\\qquad  \\sigma'(x) = -(1+Ce^{-kx})^{-2}(-kCe^{-kx}) = k\\frac{Ce^{-kx}}{(1+Ce^{-kx})(1+Ce^{-kx})}$\n",
        "\n",
        "Now we will be sneaky and add nothing to the numerator, in the form of $1-1$, \n",
        "\n",
        "$\\qquad \\sigma'(x) = k\\frac{1+ Ce^{-kx}-1}{(1+Ce^{-kx})(1+Ce^{-kx})}$\n",
        "\n",
        "which allows us to then separate out the expression into two fractions:\n",
        "\n",
        "$\\qquad  \\sigma'(x) = k\\big(\\frac{1+ Ce^{-kx}}{(1+Ce^{-kx})(1+Ce^{-kx})} -  \\frac{1}{(1+Ce^{-kx})(1+Ce^{-kx})}\\big)$\n",
        "\n",
        "At this point we notice two things; first, that the first fraction can be simplified to $1/(1+Ce^{-kx})$. Second, that when simplified, this expression is in fact the sigmoid function itself. Third (okay yes we should've noticed three things), the second fraction is this same sigmoid function squared! Thus:\n",
        "\n",
        "$\\qquad  \\sigma'(x) = k\\big(\\frac{1}{1+Ce^{-kx}} -  \\frac{1}{(1+Ce^{-kx})(1+Ce^{-kx})}\\big)$\n",
        "\n",
        "$\\qquad  \\sigma'(x) = k\\big(\\sigma(x) -  \\sigma(x)^2\\big)$\n",
        "\n",
        "$\\qquad  \\sigma'(x) = k\\sigma(x)(1 -  \\sigma(x))$"
      ]
    },
    {
      "metadata": {
        "id": "v9CvAN65x5PK",
        "colab_type": "text"
      },
      "cell_type": "markdown",
      "source": [
        "### The ReLU Function\n",
        "\n",
        "The rectifier (sometimes called the Rectified Linear Unit) is another activation function. It is a piece-wise function of the form:\n",
        "\n",
        "\n",
        "$f(x) = \\begin{cases} \n",
        "      mx & x \\geq 0 \\\\\n",
        "      0 & x < 0 \n",
        "   \\end{cases}$\n",
        "\n",
        "This makes $f'(x)$ trivially easy to compute, with the one caveat that the function isn't differentiable at zero. But this is easily, um, rectified by just arbitrarily assigning $f'(0) = 0$ or  $f'(0) = m$:\n",
        "\n",
        "$f'(x) = \\begin{cases} \n",
        "      m & x \\geq 0 \\\\\n",
        "      0 & x < 0 \n",
        "   \\end{cases}\\qquad$ or $\\qquad f'(x) = \\begin{cases} \n",
        "      m & x > 0 \\\\\n",
        "      0 & x \\leq 0 \n",
        "   \\end{cases}$\n",
        "   \n",
        "ReLU is currently very popular because it is not only easier to compute than $\\sigma(x)$, it also tends to perform better. "
      ]
    },
    {
      "metadata": {
        "id": "GkOvjeZs0_Lt",
        "colab_type": "text"
      },
      "cell_type": "markdown",
      "source": [
        "### The Tanh Function\n",
        "\n",
        "The tanh function (pronounced \"tanch\") is composed of the hyperbolic sinh (\"sinch\") and cosh (\"cosh\") functions:\n",
        "\n",
        "$\\sinh(x) = e^{kx} - e^{-kx}$\n",
        "\n",
        "$\\cosh(x) = e^{kx} + e^{-kx}$\n",
        "\n",
        "$\\tanh(x) = \\frac{\\sinh(x)}{\\cosh(x)}  =\\frac{e^{kx} - e^{-kx}}{e^{kx} + e^{-kx}}$\n",
        "\n",
        "*Exercise: show that* $\\tanh'(x) = k(1-\\tanh^2(x))$ (*hint: the hyperbolic functions have many identities analogous to the trig functions, such as* $\\cosh^2(x) - \\sinh^2(x) = 1$ *and *$\\frac{1}{\\cosh^2(x)} = 1 - \\tanh^2(x)$ *that might be useful*):"
      ]
    },
    {
      "metadata": {
        "id": "HDCDUngf8dTl",
        "colab_type": "text"
      },
      "cell_type": "markdown",
      "source": [
        "**Solution:**"
      ]
    },
    {
      "metadata": {
        "id": "G87k-6_i9plb",
        "colab_type": "text"
      },
      "cell_type": "markdown",
      "source": [
        "## Cost Function as a Composition of Activation Functions\n",
        "\n",
        "Now we can finally consider an actual neural network:\n",
        ">>>>>>> ![alt text](https://scontent.fmkc1-1.fna.fbcdn.net/v/t1.15752-9/39741849_1850782111704901_394883712715587584_n.png?_nc_cat=0&oh=2fc735967d7230a009a80729ac4bf750&oe=5BF416D8) \n",
        "\n",
        "Two hidden layers, two neurons per layer. If we suppose a sigmoidal activation function and a binary response variable, we could describe each neuron with the following equations:\n",
        "\n",
        "$\\qquad h_1 = \\frac{1}{1 + e^{-(\\beta_{11}x_1+\\beta_{12}x_2+\\beta_{13})}}$\n",
        "\n",
        "$\\qquad h_2 = \\frac{1}{1 + e^{-(\\beta_{21}x_1+\\beta_{22}x_2+\\beta_{23})}}$\n",
        "\n",
        "$\\qquad h_3 = \\frac{1}{1 + e^{-(\\beta_{31}h_1+\\beta_{32}h_2+\\beta_{33})}}$\n",
        "\n",
        "$\\qquad h_4 = \\frac{1}{1 + e^{-(\\beta_{41}h_1+\\beta_{42}h_2+\\beta_{43})}}$\n",
        "\n",
        "$\\qquad \\hat{y} = \\frac{1}{1 + e^{-(\\beta_{1}h_3+\\beta_{2}h_4+\\beta_{3})}}$\n",
        "\n",
        "\n",
        "And the cost function can still be written as:\n",
        "\n",
        "$$\\epsilon = \\sum_i^n (y_i - \\hat{y}_i(\\beta))^2$$\n",
        "\n",
        "but really, we know this to be a compacted expression of something much, much uglier, like:\n",
        "\n",
        "$$\\epsilon = \\sum_i^n \\Bigg(y_i - \\frac{1}{1 + e^{-(\\beta_{1}\\big(\\frac{1}{(1 + e^{-(\\beta_{31}(\\frac{1}{1 + e^{-(\\beta_{11}x_1+\\beta_{12}x_2+\\beta_{13})}})+\\beta_{32}(\\frac{1}{1 + e^{-(\\beta_{21}x_1+\\beta_{22}x_2+\\beta_{23})}})+\\beta_{33})})}\\big)  +\\beta_{2}\\big( \\frac{1}{(1 + e^{-(\\beta_{41}(\\frac{1}{1 + e^{-(\\beta_{11}x_1+\\beta_{12}x_2+\\beta_{13})}})+\\beta_{42}(\\frac{1}{1 + e^{-(\\beta_{21}x_1+\\beta_{22}x_2+\\beta_{23})}})+\\beta_{43})}} \\big)+\\beta_{3})})}\\Bigg)^2$$\n",
        "\n",
        "This is an intractible hot mess and not even worth trying to parse. We know the ultimate goal of gradient descent is to repeatedly find $\\nabla _\\beta \\epsilon$ to incrementally improve our weights, but this expression of $\\epsilon$ is just not the way to go. Let's never look at this again. \n",
        "\n",
        "\n",
        "\n",
        "\n"
      ]
    },
    {
      "metadata": {
        "id": "QkeSJLQMFYiw",
        "colab_type": "text"
      },
      "cell_type": "markdown",
      "source": [
        "## The Gradient of a Neural Network\n",
        "\n",
        "The good news is, we don't need that expression. We don't even need to concern ourselves with the summation directly: if we only take the gradient of the expression $(y_1 - \\hat{y}_1)^2$, we can immediately generalize this by taking the sum of the gradient across all the data. This is because the derivative of a sum is equal to the sum of the derivatives (for some generic $u$ and $v$):\n",
        "\n",
        "$\\qquad \\frac{d}{dx}(u+v) = \\frac{du}{dx}+\\frac{dv}{dx}$\n",
        "\n",
        "Of course, this implies  we intend to take the partial derivatives with respect to all $\\beta$, none of which are currently present in the compacted expression of $\\epsilon$. We saw the loss function is in essence just a bunch of nested sigma functions. Instead of working with it directly, we can work backwards (it's called back propagation for a reason) and slowly expand $\\epsilon$ to contain the weigh whose partial derivative we wish to calculate. \n",
        "\n",
        "**The partial derivative with respect to $\\beta_1$:** \n",
        "\n",
        "Let's first compute $\\frac{\\partial \\epsilon}{\\partial \\beta_1}$. By chainrule, we know this can be rewritten as:\n",
        "\n",
        "$\\frac{\\partial \\epsilon}{\\partial \\beta_1} = \\frac{\\partial \\epsilon}{\\partial \\hat{y}}\\frac{\\partial \\hat{y}}{\\partial \\beta_1}$\n",
        "\n",
        "We compute each separately. The first is fairly simple: \n",
        "\n",
        "$\\frac{\\partial \\epsilon}{\\partial \\hat{y}} = -2(y - \\hat{y})$\n",
        "\n",
        "The important thing now, before we compute $\\frac{\\partial \\epsilon}{\\partial \\beta_1}$, is to draw the analogy between the derivative we took earlier, and the derivative of specifically $\\hat{y}$. Both ar sigmoids. Earlier, our sigmoid was:\n",
        "\n",
        " $\\qquad \\sigma(x) = (1 + Ce^{-kx})^{-1}$\n",
        " \n",
        " and its derivative (I use Leibnez notation here):\n",
        " \n",
        "  $\\qquad  \\frac{{d}\\sigma(x)}{{d}x} = k\\sigma(x)(1 -  \\sigma(x))$\n",
        " \n",
        " So let's make $\\hat{y}$ look like $\\sigma(x)$. Instead of writing $e^{-(\\beta_{1}h_3+\\beta_{2}h_4+\\beta_{3})}$, we use the multiplicative law of exponents to move $\\beta_3$ and $\\beta_{2}h_4$ out in front of $e$:\n",
        " \n",
        " $\\qquad e^{-(\\beta_{1}h_3+\\beta_{2}h_4+\\beta_{3})} = e^{-(\\beta_{2}h_4+\\beta_{3})}e^{-(\\beta_{1}h_3)}$\n",
        " \n",
        " This is great news because, like $C$, $(e^{-(\\beta_{2}h_4+\\beta_{3})})$ is treated as a constant when we take $\\frac{\\partial \\epsilon}{\\partial \\beta_1}$.  Thus we can rewrite $\\hat{y}$ such that it is functionally equivalent to our expression of $\\sigma(x)$! That is, where $x = \\beta_1$, $k = h_3$, and $C = e^{-(\\beta_{2}h_4+\\beta_{3})}$. Thus:\n",
        " \n",
        "  $\\qquad \\hat{y} = (1 + e^{-(\\beta_{2}h_4+\\beta_{3})}e^{-h_3\\beta_1})^{-1}$\n",
        " \n",
        " And its derivative, with respect to $\\beta_1$:\n",
        " \n",
        " $\\qquad  \\frac{{\\partial}\\hat{y}}{{\\partial}\\beta_1} = h_3\\hat{y}(1 -  \\hat{y})$\n",
        " \n",
        " Finally, we put things together:\n",
        " \n",
        " $$\\frac{\\partial \\epsilon}{\\partial \\beta_1} = -2(y - \\hat{y})h_3\\hat{y}(1 -  \\hat{y})$$\n",
        " \n",
        " \n",
        " **The partial derivative with respect to $\\beta_2$:**\n",
        " \n",
        " \n",
        " what about the next derivative?\n",
        " \n",
        "$\\qquad \\frac{\\partial \\epsilon}{\\partial \\beta_2} = \\frac{\\partial \\epsilon}{\\partial \\hat{y}}\\frac{\\partial \\hat{y}}{\\partial \\beta_2}$\n",
        "\n",
        " $\\qquad \\hat{y} = (1 + e^{-(\\beta_{1}h_3+\\beta_{3})}e^{-h_4\\beta_2})^{-1}$\n",
        " \n",
        "  $\\qquad \\frac{\\partial \\epsilon}{\\partial \\beta_2} = -2(y - \\hat{y})h_4\\hat{y}(1 -  \\hat{y})$\n",
        "  \n",
        "   **The partial derivative with respect to $\\beta_3$:**\n",
        "   \n",
        "   The partial derivatives with respect to the bias terms are especially nice because they have no coefficient:\n",
        "   \n",
        "  $\\frac{\\partial \\epsilon}{\\partial \\beta_3} = \\frac{\\partial \\epsilon}{\\partial \\hat{y}}\\frac{\\partial \\hat{y}}{\\partial \\beta_3} = -2(y - \\hat{y})\\hat{y}(1 -  \\hat{y})$\n",
        " \n"
      ]
    },
    {
      "metadata": {
        "id": "2TRppM0uZVLX",
        "colab_type": "text"
      },
      "cell_type": "markdown",
      "source": [
        "$\\frac{\\partial \\epsilon}{\\partial \\beta_{41}} = \\frac{\\partial \\epsilon}{\\partial \\hat{y}}\\frac{\\partial \\hat{y}}{\\partial h_4}\\frac{\\partial h_4}{\\partial \\beta_{41}}$\n",
        "\n",
        "$\\frac{\\partial \\epsilon}{\\partial \\hat{y}} = -2(y-\\hat{y})$\n",
        "\n",
        "$\\frac{\\partial \\hat{y}}{\\partial h_4} = \\beta_2\\hat{y}(1-\\hat{y})$\n",
        "\n",
        "$\\frac{\\partial h_4}{\\partial \\beta_{41}} = h_1h_4(1-h_4)$\n",
        "\n",
        " $\\sigma(x) = (1 + Ce^{-kx})^{-1}$\n",
        "\n",
        "  $\\frac{{d}\\sigma(x)}{{d}x} = k\\sigma(x)(1 -  \\sigma(x))$\n",
        "  \n",
        "  $h_4 = (1+e^{-(\\beta_{41}h_1+ \\beta_{42}h_2 +\\beta_{43})})$\n",
        "  \n",
        "  $e^{-(\\beta_{41}h_1+ \\beta_{42}h_2 +\\beta_{43})} =e^{(\\beta_{42}h_2 +\\beta_{43})}e^{-h_1\\beta_{41}}$\n",
        "  \n",
        "  \n",
        "  >>> $h_4 = (1 + e^{(\\beta_{42}h_2 +\\beta_{43})}e^{-h_1\\beta_{41}})^{-1}$\n",
        "  \n",
        "  \n",
        "  >>>  $\\sigma(x) = (1 + Ce^{-kx})^{-1}$\n",
        "  \n",
        "  $\\frac{\\partial \\epsilon}{\\partial \\beta_{41}} =  -2(y-\\hat{y})\\beta_2\\hat{y}(1-\\hat{y}) h_1h_4(1-h_4)$\n",
        "  \n",
        "  "
      ]
    },
    {
      "metadata": {
        "id": "O5-_Z2IxcIfV",
        "colab_type": "code",
        "colab": {}
      },
      "cell_type": "code",
      "source": [
        "def gradient_descent():\n",
        "  while not time_to_stop: #these are epochs\n",
        "    del_beta = 0\n",
        "    for i in data:\n",
        "      values = forward_propagate(i)\n",
        "      del_beta_i = back_propagate(values)\n",
        "      \n",
        "      # del_error_del_beta_1_i = -2*(y-haty)*h_3*haty*(1-haty)\n",
        "      del_beta += del_beta_i\n",
        "    beta += - alpha*del_beta \n",
        "    "
      ],
      "execution_count": 0,
      "outputs": []
    },
    {
      "metadata": {
        "id": "yBgJ7zlEg71-",
        "colab_type": "text"
      },
      "cell_type": "markdown",
      "source": [
        "**Your Task:** compute all of the partial derivatives. Use them to perform gradient descent on the neural network pictured above."
      ]
    },
    {
      "metadata": {
        "id": "8hAJOqcOhLFp",
        "colab_type": "code",
        "colab": {}
      },
      "cell_type": "code",
      "source": [
        "X = [[0,0],[0,1],[1,0],[1,1]]\n",
        "Y = [[0,1,1,0]]"
      ],
      "execution_count": 0,
      "outputs": []
    }
  ]
}